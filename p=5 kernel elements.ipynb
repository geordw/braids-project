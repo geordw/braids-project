{
 "cells": [
  {
   "cell_type": "markdown",
   "id": "e6cfb869",
   "metadata": {},
   "source": [
    "# Summary of results\n",
    "\n",
    "We show the results of our search (without the search code included)."
   ]
  },
  {
   "cell_type": "code",
   "execution_count": 1,
   "id": "02505cd1",
   "metadata": {},
   "outputs": [],
   "source": [
    "import functools\n",
    "import operator\n",
    "\n",
    "import numpy as np\n",
    "import pandas as pd\n",
    "import matplotlib.pyplot as plt\n",
    "\n",
    "from typing import Sequence\n",
    "\n",
    "from peyl import (\n",
    "    JonesCellRep,\n",
    "    Permutation,\n",
    "    BraidGroup,\n",
    "    GNF,\n",
    "    polymat,\n",
    "    JonesSummand,\n",
    ")\n",
    "\n",
    "from peyl.braidsearch import evaluate_prefixes_of_same_length\n",
    "\n",
    "def plot_trajectories(track, bucket):\n",
    "    ax = track.stats().plot(\n",
    "        kind='scatter',\n",
    "        x='length',\n",
    "        y='projlen',\n",
    "        figsize=(12, 5),\n",
    "        grid=True,\n",
    "    )\n",
    "    braids, _ = track.bucket_braids_images(bucket)\n",
    "    print(f\"Bucket {bucket} has {len(braids)} braids\")\n",
    "    images = evaluate_prefixes_of_same_length(track.rep, braids)\n",
    "    projlens = np.stack([polymat.projlen(image) for image in images])\n",
    "    for i in range(len(braids)):\n",
    "        ax.plot(np.arange(braids[i].garside_length()+1), projlens[:, i])"
   ]
  },
  {
   "cell_type": "markdown",
   "id": "a4756850",
   "metadata": {},
   "source": [
    "# p = 5\n",
    "We set up our representation for p = 5"
   ]
  },
  {
   "cell_type": "code",
   "execution_count": 2,
   "id": "c899f9d3",
   "metadata": {},
   "outputs": [],
   "source": [
    "# (n-r, r) is the corresponding premutation, so r=1 corresponds to Burau\n",
    "rep = JonesSummand(n=5, r=1, p=5)"
   ]
  },
  {
   "cell_type": "markdown",
   "id": "124d6b89",
   "metadata": {},
   "source": [
    "# Here we give the 3 kernel elements that we have found\n",
    "(Note that these are \"almost kernel elements\", we modify them to be true kernel elements below.)"
   ]
  },
  {
   "cell_type": "code",
   "execution_count": 3,
   "id": "67802fb5",
   "metadata": {},
   "outputs": [
    {
     "data": {
      "text/plain": [
       "[54, 59, 65]"
      ]
     },
     "execution_count": 3,
     "metadata": {},
     "output_type": "execute_result"
    }
   ],
   "source": [
    "a_seq = (Permutation(word=(1, 0, 3, 2)), Permutation(word=(1, 0, 3, 2)), Permutation(word=(1, 3, 0, 2)), Permutation(word=(2, 0, 3, 1)), Permutation(word=(0, 3, 1, 2)), Permutation(word=(2, 0, 3, 1)), Permutation(word=(0, 3, 1, 2)), Permutation(word=(0, 2, 1, 3)), Permutation(word=(2, 0, 3, 1)), Permutation(word=(3, 1, 0, 2)), Permutation(word=(2, 0, 3, 1)), Permutation(word=(3, 1, 0, 2)), Permutation(word=(2, 0, 3, 1)), Permutation(word=(1, 3, 0, 2)), Permutation(word=(0, 2, 1, 3)), Permutation(word=(2, 0, 3, 1)), Permutation(word=(0, 3, 1, 2)), Permutation(word=(2, 0, 3, 1)), Permutation(word=(0, 3, 1, 2)), Permutation(word=(2, 0, 3, 1)), Permutation(word=(1, 0, 3, 2)), Permutation(word=(3, 1, 2, 0)), Permutation(word=(3, 1, 0, 2)), Permutation(word=(2, 0, 3, 1)), Permutation(word=(3, 1, 0, 2)), Permutation(word=(2, 0, 3, 1)), Permutation(word=(1, 3, 0, 2)), Permutation(word=(2, 3, 0, 1)), Permutation(word=(2, 3, 0, 1)), Permutation(word=(0, 2, 1, 3)), Permutation(word=(2, 0, 3, 1)), Permutation(word=(0, 3, 1, 2)), Permutation(word=(2, 0, 3, 1)), Permutation(word=(0, 3, 1, 2)), Permutation(word=(2, 0, 3, 1)), Permutation(word=(3, 1, 2, 0)), Permutation(word=(3, 1, 0, 2)), Permutation(word=(2, 0, 3, 1)), Permutation(word=(3, 1, 0, 2)), Permutation(word=(2, 0, 3, 1)), Permutation(word=(3, 1, 2, 0)), Permutation(word=(1, 3, 0, 2)), Permutation(word=(2, 0, 3, 1)), Permutation(word=(0, 3, 1, 2)), Permutation(word=(2, 0, 3, 1)), Permutation(word=(0, 3, 1, 2)), Permutation(word=(0, 2, 1, 3)), Permutation(word=(2, 3, 0, 1)), Permutation(word=(2, 0, 3, 1)), Permutation(word=(1, 3, 2, 0)), Permutation(word=(2, 0, 3, 1)), Permutation(word=(1, 3, 2, 0)), Permutation(word=(2, 0, 3, 1)), Permutation(word=(3, 1, 2, 0)))\n",
    "b_seq = (Permutation(word=(2, 3, 1, 0)), Permutation(word=(2, 0, 3, 1)), Permutation(word=(1, 3, 0, 2)), Permutation(word=(0, 2, 1, 3)), Permutation(word=(2, 0, 3, 1)), Permutation(word=(1, 2, 0, 3)), Permutation(word=(2, 0, 3, 1)), Permutation(word=(1, 2, 0, 3)), Permutation(word=(2, 0, 3, 1)), Permutation(word=(1, 0, 3, 2)), Permutation(word=(3, 1, 2, 0)), Permutation(word=(1, 3, 2, 0)), Permutation(word=(2, 0, 3, 1)), Permutation(word=(1, 3, 2, 0)), Permutation(word=(2, 0, 3, 1)), Permutation(word=(1, 3, 0, 2)), Permutation(word=(0, 2, 1, 3)), Permutation(word=(2, 0, 3, 1)), Permutation(word=(1, 2, 0, 3)), Permutation(word=(2, 0, 3, 1)), Permutation(word=(1, 2, 0, 3)), Permutation(word=(0, 2, 1, 3)), Permutation(word=(2, 0, 3, 1)), Permutation(word=(1, 3, 2, 0)), Permutation(word=(2, 0, 3, 1)), Permutation(word=(1, 3, 2, 0)), Permutation(word=(2, 0, 3, 1)), Permutation(word=(3, 1, 2, 0)), Permutation(word=(1, 0, 3, 2)), Permutation(word=(1, 0, 3, 2)), Permutation(word=(1, 3, 0, 2)), Permutation(word=(2, 0, 3, 1)), Permutation(word=(1, 2, 0, 3)), Permutation(word=(2, 0, 3, 1)), Permutation(word=(1, 2, 0, 3)), Permutation(word=(0, 2, 1, 3)), Permutation(word=(2, 3, 0, 1)), Permutation(word=(2, 0, 3, 1)), Permutation(word=(3, 1, 0, 2)), Permutation(word=(2, 0, 3, 1)), Permutation(word=(3, 1, 0, 2)), Permutation(word=(2, 0, 3, 1)), Permutation(word=(3, 1, 2, 0)), Permutation(word=(1, 3, 0, 2)), Permutation(word=(2, 0, 3, 1)), Permutation(word=(0, 3, 1, 2)), Permutation(word=(2, 0, 3, 1)), Permutation(word=(0, 3, 1, 2)), Permutation(word=(2, 0, 3, 1)), Permutation(word=(3, 1, 2, 0)), Permutation(word=(3, 1, 0, 2)), Permutation(word=(2, 0, 3, 1)), Permutation(word=(3, 1, 0, 2)), Permutation(word=(2, 0, 3, 1)), Permutation(word=(1, 3, 0, 2)), Permutation(word=(2, 3, 0, 1)), Permutation(word=(0, 2, 1, 3)), Permutation(word=(2, 0, 3, 1)), Permutation(word=(1, 0, 2, 3)))\n",
    "c_seq = (Permutation(word=(1, 0, 3, 2)), Permutation(word=(1, 0, 3, 2)), Permutation(word=(1, 3, 0, 2)), Permutation(word=(2, 0, 3, 1)), Permutation(word=(0, 3, 1, 2)), Permutation(word=(2, 0, 3, 1)), Permutation(word=(0, 3, 1, 2)), Permutation(word=(2, 0, 3, 1)), Permutation(word=(3, 1, 2, 0)), Permutation(word=(3, 1, 0, 2)), Permutation(word=(2, 0, 3, 1)), Permutation(word=(3, 1, 0, 2)), Permutation(word=(2, 0, 3, 1)), Permutation(word=(1, 3, 0, 2)), Permutation(word=(0, 2, 1, 3)), Permutation(word=(2, 0, 3, 1)), Permutation(word=(0, 3, 1, 2)), Permutation(word=(2, 0, 3, 1)), Permutation(word=(0, 3, 1, 2)), Permutation(word=(2, 0, 3, 1)), Permutation(word=(3, 1, 2, 0)), Permutation(word=(3, 1, 0, 2)), Permutation(word=(2, 0, 3, 1)), Permutation(word=(3, 1, 0, 2)), Permutation(word=(2, 0, 3, 1)), Permutation(word=(1, 3, 0, 2)), Permutation(word=(0, 2, 1, 3)), Permutation(word=(2, 0, 3, 1)), Permutation(word=(0, 3, 1, 2)), Permutation(word=(2, 0, 3, 1)), Permutation(word=(0, 3, 1, 2)), Permutation(word=(2, 0, 3, 1)), Permutation(word=(3, 1, 2, 0)), Permutation(word=(3, 1, 0, 2)), Permutation(word=(2, 0, 3, 1)), Permutation(word=(3, 1, 0, 2)), Permutation(word=(2, 0, 3, 1)), Permutation(word=(1, 3, 0, 2)), Permutation(word=(0, 2, 1, 3)), Permutation(word=(2, 0, 3, 1)), Permutation(word=(0, 3, 1, 2)), Permutation(word=(2, 0, 3, 1)), Permutation(word=(0, 3, 1, 2)), Permutation(word=(2, 0, 3, 1)), Permutation(word=(3, 1, 2, 0)), Permutation(word=(3, 1, 0, 2)), Permutation(word=(2, 0, 3, 1)), Permutation(word=(3, 1, 0, 2)), Permutation(word=(2, 0, 3, 1)), Permutation(word=(1, 3, 0, 2)), Permutation(word=(0, 2, 1, 3)), Permutation(word=(2, 0, 3, 1)), Permutation(word=(0, 3, 1, 2)), Permutation(word=(2, 0, 3, 1)), Permutation(word=(0, 3, 1, 2)), Permutation(word=(2, 0, 3, 1)), Permutation(word=(3, 1, 2, 0)), Permutation(word=(3, 1, 0, 2)), Permutation(word=(2, 0, 3, 1)), Permutation(word=(3, 1, 0, 2)), Permutation(word=(2, 0, 3, 1)), Permutation(word=(1, 3, 0, 2)), Permutation(word=(2, 3, 0, 1)), Permutation(word=(2, 3, 0, 1)), Permutation(word=(2, 3, 0, 1)))\n",
    "\n",
    "[len(x) for x in [a_seq, b_seq, c_seq]]"
   ]
  },
  {
   "cell_type": "code",
   "execution_count": 4,
   "id": "78abc3d4",
   "metadata": {},
   "outputs": [
    {
     "data": {
      "text/latex": [
       "\\begin{pmatrix}0 & 0 & 4v^{108} \\\\ 0 & 4v^{108} & 0 \\\\ 4v^{108} & 0 & 0\\end{pmatrix}"
      ],
      "text/plain": [
       "Matrix([\n",
       "    [LPoly('0'), LPoly('0'), LPoly('4v^108')],\n",
       "    [LPoly('0'), LPoly('4v^108'), LPoly('0')],\n",
       "    [LPoly('4v^108'), LPoly('0'), LPoly('0')],\n",
       "])"
      ]
     },
     "execution_count": 4,
     "metadata": {},
     "output_type": "execute_result"
    }
   ],
   "source": [
    "def perms_to_braid(BG: BraidGroup, perms: Sequence[Permutation]) -> GNF:\n",
    "    return functools.reduce(operator.mul, [BG.positive_lift(perm) for perm in perms], BG.id())\n",
    "\n",
    "cell_rep = JonesCellRep(n=4, r=1, p=5)\n",
    "BG = BraidGroup(4)\n",
    "\n",
    "a = perms_to_braid(BG, a_seq)\n",
    "b = perms_to_braid(BG, b_seq) \n",
    "c = perms_to_braid(BG, c_seq)\n",
    "\n",
    "cell_rep.evaluate(a)"
   ]
  },
  {
   "cell_type": "code",
   "execution_count": 5,
   "id": "028dd9d5",
   "metadata": {},
   "outputs": [
    {
     "data": {
      "text/latex": [
       "\\begin{pmatrix}0 & 0 & 4v^{116} \\\\ 0 & 4v^{116} & 0 \\\\ 4v^{116} & 0 & 0\\end{pmatrix}"
      ],
      "text/plain": [
       "Matrix([\n",
       "    [LPoly('0'), LPoly('0'), LPoly('4v^116')],\n",
       "    [LPoly('0'), LPoly('4v^116'), LPoly('0')],\n",
       "    [LPoly('4v^116'), LPoly('0'), LPoly('0')],\n",
       "])"
      ]
     },
     "execution_count": 5,
     "metadata": {},
     "output_type": "execute_result"
    }
   ],
   "source": [
    "cell_rep.evaluate(b)"
   ]
  },
  {
   "cell_type": "code",
   "execution_count": 6,
   "id": "8ce87c5f",
   "metadata": {},
   "outputs": [
    {
     "data": {
      "text/latex": [
       "\\begin{pmatrix}0 & 0 & 4v^{132} \\\\ 0 & 4v^{132} & 0 \\\\ 4v^{132} & 0 & 0\\end{pmatrix}"
      ],
      "text/plain": [
       "Matrix([\n",
       "    [LPoly('0'), LPoly('0'), LPoly('4v^132')],\n",
       "    [LPoly('0'), LPoly('4v^132'), LPoly('0')],\n",
       "    [LPoly('4v^132'), LPoly('0'), LPoly('0')],\n",
       "])"
      ]
     },
     "execution_count": 6,
     "metadata": {},
     "output_type": "execute_result"
    }
   ],
   "source": [
    "cell_rep.evaluate(c)"
   ]
  },
  {
   "cell_type": "markdown",
   "id": "d0d48405",
   "metadata": {},
   "source": [
    "# We now give the real kernel elements,\n",
    "i.e. we modify with an appropriate power of Garside element"
   ]
  },
  {
   "cell_type": "code",
   "execution_count": 7,
   "id": "b45c194a",
   "metadata": {},
   "outputs": [
    {
     "data": {
      "text/latex": [
       "$(\\Delta^{1};)$"
      ],
      "text/plain": [
       "GNF(1, ())"
      ]
     },
     "execution_count": 7,
     "metadata": {},
     "output_type": "execute_result"
    }
   ],
   "source": [
    "# we hard code our Garside element\n",
    "Delta = BG.positive_lift(Permutation((3, 2, 1, 0)))\n",
    "Delta"
   ]
  },
  {
   "cell_type": "code",
   "execution_count": 8,
   "id": "9ff2d9fb",
   "metadata": {},
   "outputs": [
    {
     "data": {
      "text/latex": [
       "\\begin{pmatrix}1 & 0 & 0 \\\\ 0 & 1 & 0 \\\\ 0 & 0 & 1\\end{pmatrix}"
      ],
      "text/plain": [
       "Matrix([\n",
       "    [LPoly('1'), LPoly('0'), LPoly('0')],\n",
       "    [LPoly('0'), LPoly('1'), LPoly('0')],\n",
       "    [LPoly('0'), LPoly('0'), LPoly('1')],\n",
       "])"
      ]
     },
     "execution_count": 8,
     "metadata": {},
     "output_type": "execute_result"
    }
   ],
   "source": [
    "a_true = Delta**-27*a\n",
    "cell_rep.evaluate(a_true)"
   ]
  },
  {
   "cell_type": "code",
   "execution_count": 9,
   "id": "06fa2dd6",
   "metadata": {},
   "outputs": [
    {
     "data": {
      "text/latex": [
       "\\begin{pmatrix}1 & 0 & 0 \\\\ 0 & 1 & 0 \\\\ 0 & 0 & 1\\end{pmatrix}"
      ],
      "text/plain": [
       "Matrix([\n",
       "    [LPoly('1'), LPoly('0'), LPoly('0')],\n",
       "    [LPoly('0'), LPoly('1'), LPoly('0')],\n",
       "    [LPoly('0'), LPoly('0'), LPoly('1')],\n",
       "])"
      ]
     },
     "execution_count": 9,
     "metadata": {},
     "output_type": "execute_result"
    }
   ],
   "source": [
    "b_true = Delta**-29*b\n",
    "cell_rep.evaluate(b_true)"
   ]
  },
  {
   "cell_type": "code",
   "execution_count": 10,
   "id": "94fc18ae",
   "metadata": {},
   "outputs": [
    {
     "data": {
      "text/latex": [
       "\\begin{pmatrix}1 & 0 & 0 \\\\ 0 & 1 & 0 \\\\ 0 & 0 & 1\\end{pmatrix}"
      ],
      "text/plain": [
       "Matrix([\n",
       "    [LPoly('1'), LPoly('0'), LPoly('0')],\n",
       "    [LPoly('0'), LPoly('1'), LPoly('0')],\n",
       "    [LPoly('0'), LPoly('0'), LPoly('1')],\n",
       "])"
      ]
     },
     "execution_count": 10,
     "metadata": {},
     "output_type": "execute_result"
    }
   ],
   "source": [
    "c_true = Delta**-33*c\n",
    "cell_rep.evaluate(c_true)"
   ]
  },
  {
   "cell_type": "code",
   "execution_count": 11,
   "id": "db95bcc8",
   "metadata": {},
   "outputs": [
    {
     "data": {
      "text/plain": [
       "[54, 59, 65]"
      ]
     },
     "execution_count": 11,
     "metadata": {},
     "output_type": "execute_result"
    }
   ],
   "source": [
    "K_true = [a_true, b_true, c_true]\n",
    "# note that Garside lengths haven't changed (as expected)\n",
    "[x.canonical_length() for x in K_true]"
   ]
  },
  {
   "cell_type": "markdown",
   "id": "910136ee",
   "metadata": {},
   "source": [
    "# We write our elements in a form suitable for article"
   ]
  },
  {
   "cell_type": "code",
   "execution_count": 12,
   "id": "7674b9c0",
   "metadata": {},
   "outputs": [
    {
     "name": "stdout",
     "output_type": "stream",
     "text": [
      "[1, 3, 1, 3, 1, 3, 2, 2, 1, 3, 3, 2, 2, 1, 3, 3, 2, 2, 2, 1, 3, 1, 3, 2, 1, 2, 1, 3, 1, 3, 2, 1, 2, 1, 3, 1, 3, 2, 2, 2, 1, 3, 3, 2, 2, 1, 3, 3, 2, 2, 1, 3, 1, 3, 1, 2, 3, 2, 1, 1, 3, 2, 1, 2, 1, 3, 1, 3, 2, 1, 2, 1, 3, 1, 3, 2, 2, 1, 3, 2, 2, 1, 3, 2, 2, 2, 1, 3, 3, 2, 2, 1, 3, 3, 2, 2, 1, 3, 1, 2, 3, 2, 1, 1, 3, 2, 1, 2, 1, 3, 1, 3, 2, 1, 2, 1, 3, 1, 2, 3, 2, 1, 1, 3, 2, 2, 1, 3, 3, 2, 2, 1, 3, 3, 2, 2, 2, 1, 3, 2, 2, 1, 3, 1, 2, 3, 2, 2, 1, 3, 1, 2, 3, 2, 2, 1, 3, 1, 2, 3, 2, 1]\n",
      "Length = 162\n",
      "\n",
      "[1, 2, 1, 3, 2, 2, 1, 3, 1, 3, 2, 2, 2, 1, 3, 1, 2, 2, 1, 3, 1, 2, 2, 1, 3, 1, 3, 1, 2, 3, 2, 1, 1, 2, 3, 2, 2, 1, 3, 1, 2, 3, 2, 2, 1, 3, 1, 3, 2, 2, 2, 1, 3, 1, 2, 2, 1, 3, 1, 2, 2, 2, 1, 3, 1, 2, 3, 2, 2, 1, 3, 1, 2, 3, 2, 2, 1, 3, 1, 2, 3, 2, 1, 1, 3, 1, 3, 1, 3, 2, 2, 1, 3, 1, 2, 2, 1, 3, 1, 2, 2, 2, 1, 3, 2, 2, 1, 3, 1, 3, 2, 1, 2, 1, 3, 1, 3, 2, 1, 2, 1, 3, 1, 2, 3, 2, 1, 1, 3, 2, 2, 1, 3, 3, 2, 2, 1, 3, 3, 2, 2, 1, 3, 1, 2, 3, 2, 1, 1, 3, 2, 1, 2, 1, 3, 1, 3, 2, 1, 2, 1, 3, 1, 3, 2, 2, 1, 3, 2, 2, 2, 1, 3, 1]\n",
      "Length = 174\n",
      "\n",
      "[1, 3, 1, 3, 1, 3, 2, 2, 1, 3, 3, 2, 2, 1, 3, 3, 2, 2, 1, 3, 1, 2, 3, 2, 1, 1, 3, 2, 1, 2, 1, 3, 1, 3, 2, 1, 2, 1, 3, 1, 3, 2, 2, 2, 1, 3, 3, 2, 2, 1, 3, 3, 2, 2, 1, 3, 1, 2, 3, 2, 1, 1, 3, 2, 1, 2, 1, 3, 1, 3, 2, 1, 2, 1, 3, 1, 3, 2, 2, 2, 1, 3, 3, 2, 2, 1, 3, 3, 2, 2, 1, 3, 1, 2, 3, 2, 1, 1, 3, 2, 1, 2, 1, 3, 1, 3, 2, 1, 2, 1, 3, 1, 3, 2, 2, 2, 1, 3, 3, 2, 2, 1, 3, 3, 2, 2, 1, 3, 1, 2, 3, 2, 1, 1, 3, 2, 1, 2, 1, 3, 1, 3, 2, 1, 2, 1, 3, 1, 3, 2, 2, 2, 1, 3, 3, 2, 2, 1, 3, 3, 2, 2, 1, 3, 1, 2, 3, 2, 1, 1, 3, 2, 1, 2, 1, 3, 1, 3, 2, 1, 2, 1, 3, 1, 3, 2, 2, 1, 3, 2, 2, 1, 3, 2, 2, 1, 3, 2]\n",
      "Length = 198\n",
      "\n"
     ]
    }
   ],
   "source": [
    "for k in [a,b,c]:\n",
    "    z = k.magma_artin_word()\n",
    "    print(f'{z}\\nLength = {len(z)}',end=\"\\n\\n\")"
   ]
  },
  {
   "cell_type": "code",
   "execution_count": 13,
   "id": "77815b66",
   "metadata": {},
   "outputs": [
    {
     "data": {
      "text/plain": [
       "'$(\\\\Delta^{-27};s_{0} s_{2}, s_{0} s_{2}, s_{0} s_{2} s_{1}, s_{1} s_{0} s_{2}, s_{2} s_{1}, s_{1} s_{0} s_{2}, s_{2} s_{1}, s_{1}, s_{1} s_{0} s_{2}, s_{0} s_{2} s_{1} s_{0}, s_{1} s_{0} s_{2}, s_{0} s_{2} s_{1} s_{0}, s_{1} s_{0} s_{2}, s_{0} s_{2} s_{1}, s_{1}, s_{1} s_{0} s_{2}, s_{2} s_{1}, s_{1} s_{0} s_{2}, s_{2} s_{1}, s_{1} s_{0} s_{2}, s_{0} s_{2}, s_{0} s_{1} s_{2} s_{1} s_{0}, s_{0} s_{2} s_{1} s_{0}, s_{1} s_{0} s_{2}, s_{0} s_{2} s_{1} s_{0}, s_{1} s_{0} s_{2}, s_{0} s_{2} s_{1}, s_{1} s_{0} s_{2} s_{1}, s_{1} s_{0} s_{2} s_{1}, s_{1}, s_{1} s_{0} s_{2}, s_{2} s_{1}, s_{1} s_{0} s_{2}, s_{2} s_{1}, s_{1} s_{0} s_{2}, s_{0} s_{1} s_{2} s_{1} s_{0}, s_{0} s_{2} s_{1} s_{0}, s_{1} s_{0} s_{2}, s_{0} s_{2} s_{1} s_{0}, s_{1} s_{0} s_{2}, s_{0} s_{1} s_{2} s_{1} s_{0}, s_{0} s_{2} s_{1}, s_{1} s_{0} s_{2}, s_{2} s_{1}, s_{1} s_{0} s_{2}, s_{2} s_{1}, s_{1}, s_{1} s_{0} s_{2} s_{1}, s_{1} s_{0} s_{2}, s_{0} s_{1} s_{2} s_{1}, s_{1} s_{0} s_{2}, s_{0} s_{1} s_{2} s_{1}, s_{1} s_{0} s_{2}, s_{0} s_{1} s_{2} s_{1} s_{0})$'"
      ]
     },
     "execution_count": 13,
     "metadata": {},
     "output_type": "execute_result"
    }
   ],
   "source": [
    "a_true._repr_latex_()"
   ]
  },
  {
   "cell_type": "markdown",
   "id": "f37b1e11",
   "metadata": {},
   "source": [
    "# write out elements in a form suitable for checking in magma"
   ]
  },
  {
   "cell_type": "code",
   "execution_count": 14,
   "id": "9ab28cb9",
   "metadata": {},
   "outputs": [
    {
     "name": "stdout",
     "output_type": "stream",
     "text": [
      "[-1, -2, -3, -1, -2, -1, -1, -2, -3, -1, -2, -1, -1, -2, -3, -1, -2, -1, -1, -2, -3, -1, -2, -1, -1, -2, -3, -1, -2, -1, -1, -2, -3, -1, -2, -1, -1, -2, -3, -1, -2, -1, -1, -2, -3, -1, -2, -1, -1, -2, -3, -1, -2, -1, -1, -2, -3, -1, -2, -1, -1, -2, -3, -1, -2, -1, -1, -2, -3, -1, -2, -1, -1, -2, -3, -1, -2, -1, -1, -2, -3, -1, -2, -1, -1, -2, -3, -1, -2, -1, -1, -2, -3, -1, -2, -1, -1, -2, -3, -1, -2, -1, -1, -2, -3, -1, -2, -1, -1, -2, -3, -1, -2, -1, -1, -2, -3, -1, -2, -1, -1, -2, -3, -1, -2, -1, -1, -2, -3, -1, -2, -1, -1, -2, -3, -1, -2, -1, -1, -2, -3, -1, -2, -1, -1, -2, -3, -1, -2, -1, -1, -2, -3, -1, -2, -1, -1, -2, -3, -1, -2, -1, 1, 3, 1, 3, 1, 3, 2, 2, 1, 3, 3, 2, 2, 1, 3, 3, 2, 2, 2, 1, 3, 1, 3, 2, 1, 2, 1, 3, 1, 3, 2, 1, 2, 1, 3, 1, 3, 2, 2, 2, 1, 3, 3, 2, 2, 1, 3, 3, 2, 2, 1, 3, 1, 3, 1, 2, 3, 2, 1, 1, 3, 2, 1, 2, 1, 3, 1, 3, 2, 1, 2, 1, 3, 1, 3, 2, 2, 1, 3, 2, 2, 1, 3, 2, 2, 2, 1, 3, 3, 2, 2, 1, 3, 3, 2, 2, 1, 3, 1, 2, 3, 2, 1, 1, 3, 2, 1, 2, 1, 3, 1, 3, 2, 1, 2, 1, 3, 1, 2, 3, 2, 1, 1, 3, 2, 2, 1, 3, 3, 2, 2, 1, 3, 3, 2, 2, 2, 1, 3, 2, 2, 1, 3, 1, 2, 3, 2, 2, 1, 3, 1, 2, 3, 2, 2, 1, 3, 1, 2, 3, 2, 1]\n",
      "Length = 324\n",
      "\n",
      "[-1, -2, -3, -1, -2, -1, -1, -2, -3, -1, -2, -1, -1, -2, -3, -1, -2, -1, -1, -2, -3, -1, -2, -1, -1, -2, -3, -1, -2, -1, -1, -2, -3, -1, -2, -1, -1, -2, -3, -1, -2, -1, -1, -2, -3, -1, -2, -1, -1, -2, -3, -1, -2, -1, -1, -2, -3, -1, -2, -1, -1, -2, -3, -1, -2, -1, -1, -2, -3, -1, -2, -1, -1, -2, -3, -1, -2, -1, -1, -2, -3, -1, -2, -1, -1, -2, -3, -1, -2, -1, -1, -2, -3, -1, -2, -1, -1, -2, -3, -1, -2, -1, -1, -2, -3, -1, -2, -1, -1, -2, -3, -1, -2, -1, -1, -2, -3, -1, -2, -1, -1, -2, -3, -1, -2, -1, -1, -2, -3, -1, -2, -1, -1, -2, -3, -1, -2, -1, -1, -2, -3, -1, -2, -1, -1, -2, -3, -1, -2, -1, -1, -2, -3, -1, -2, -1, -1, -2, -3, -1, -2, -1, -1, -2, -3, -1, -2, -1, -1, -2, -3, -1, -2, -1, 1, 2, 1, 3, 2, 2, 1, 3, 1, 3, 2, 2, 2, 1, 3, 1, 2, 2, 1, 3, 1, 2, 2, 1, 3, 1, 3, 1, 2, 3, 2, 1, 1, 2, 3, 2, 2, 1, 3, 1, 2, 3, 2, 2, 1, 3, 1, 3, 2, 2, 2, 1, 3, 1, 2, 2, 1, 3, 1, 2, 2, 2, 1, 3, 1, 2, 3, 2, 2, 1, 3, 1, 2, 3, 2, 2, 1, 3, 1, 2, 3, 2, 1, 1, 3, 1, 3, 1, 3, 2, 2, 1, 3, 1, 2, 2, 1, 3, 1, 2, 2, 2, 1, 3, 2, 2, 1, 3, 1, 3, 2, 1, 2, 1, 3, 1, 3, 2, 1, 2, 1, 3, 1, 2, 3, 2, 1, 1, 3, 2, 2, 1, 3, 3, 2, 2, 1, 3, 3, 2, 2, 1, 3, 1, 2, 3, 2, 1, 1, 3, 2, 1, 2, 1, 3, 1, 3, 2, 1, 2, 1, 3, 1, 3, 2, 2, 1, 3, 2, 2, 2, 1, 3, 1]\n",
      "Length = 348\n",
      "\n",
      "[-1, -2, -3, -1, -2, -1, -1, -2, -3, -1, -2, -1, -1, -2, -3, -1, -2, -1, -1, -2, -3, -1, -2, -1, -1, -2, -3, -1, -2, -1, -1, -2, -3, -1, -2, -1, -1, -2, -3, -1, -2, -1, -1, -2, -3, -1, -2, -1, -1, -2, -3, -1, -2, -1, -1, -2, -3, -1, -2, -1, -1, -2, -3, -1, -2, -1, -1, -2, -3, -1, -2, -1, -1, -2, -3, -1, -2, -1, -1, -2, -3, -1, -2, -1, -1, -2, -3, -1, -2, -1, -1, -2, -3, -1, -2, -1, -1, -2, -3, -1, -2, -1, -1, -2, -3, -1, -2, -1, -1, -2, -3, -1, -2, -1, -1, -2, -3, -1, -2, -1, -1, -2, -3, -1, -2, -1, -1, -2, -3, -1, -2, -1, -1, -2, -3, -1, -2, -1, -1, -2, -3, -1, -2, -1, -1, -2, -3, -1, -2, -1, -1, -2, -3, -1, -2, -1, -1, -2, -3, -1, -2, -1, -1, -2, -3, -1, -2, -1, -1, -2, -3, -1, -2, -1, -1, -2, -3, -1, -2, -1, -1, -2, -3, -1, -2, -1, -1, -2, -3, -1, -2, -1, -1, -2, -3, -1, -2, -1, 1, 3, 1, 3, 1, 3, 2, 2, 1, 3, 3, 2, 2, 1, 3, 3, 2, 2, 1, 3, 1, 2, 3, 2, 1, 1, 3, 2, 1, 2, 1, 3, 1, 3, 2, 1, 2, 1, 3, 1, 3, 2, 2, 2, 1, 3, 3, 2, 2, 1, 3, 3, 2, 2, 1, 3, 1, 2, 3, 2, 1, 1, 3, 2, 1, 2, 1, 3, 1, 3, 2, 1, 2, 1, 3, 1, 3, 2, 2, 2, 1, 3, 3, 2, 2, 1, 3, 3, 2, 2, 1, 3, 1, 2, 3, 2, 1, 1, 3, 2, 1, 2, 1, 3, 1, 3, 2, 1, 2, 1, 3, 1, 3, 2, 2, 2, 1, 3, 3, 2, 2, 1, 3, 3, 2, 2, 1, 3, 1, 2, 3, 2, 1, 1, 3, 2, 1, 2, 1, 3, 1, 3, 2, 1, 2, 1, 3, 1, 3, 2, 2, 2, 1, 3, 3, 2, 2, 1, 3, 3, 2, 2, 1, 3, 1, 2, 3, 2, 1, 1, 3, 2, 1, 2, 1, 3, 1, 3, 2, 1, 2, 1, 3, 1, 3, 2, 2, 1, 3, 2, 2, 1, 3, 2, 2, 1, 3, 2]\n",
      "Length = 396\n",
      "\n"
     ]
    }
   ],
   "source": [
    "for k in K_true:\n",
    "    z = k.magma_artin_word()\n",
    "    print(f'{z}\\nLength = {len(z)}',end=\"\\n\\n\")"
   ]
  },
  {
   "cell_type": "markdown",
   "id": "329d84cc",
   "metadata": {},
   "source": [
    "# We compute number of elements of Garside length 54"
   ]
  },
  {
   "cell_type": "code",
   "execution_count": 15,
   "id": "35f427f5",
   "metadata": {},
   "outputs": [
    {
     "name": "stdout",
     "output_type": "stream",
     "text": [
      "3.7011e+40\n"
     ]
    }
   ],
   "source": [
    "z = BG.count_all_of_garside_length(54)\n",
    "print(f\"{z:g}\")"
   ]
  },
  {
   "cell_type": "markdown",
   "id": "4182c878",
   "metadata": {},
   "source": [
    "# We plot the projlens of the partial products for each of our elements"
   ]
  },
  {
   "cell_type": "code",
   "execution_count": 16,
   "id": "2d4c7c10",
   "metadata": {},
   "outputs": [],
   "source": [
    "# change gamma to a, b or c to produce the plots in the paper.\n",
    "gamma = c\n",
    "\n",
    "can_factors = gamma.canonical_factors()\n",
    "garside_factors = [BG.positive_lift(x) for x in can_factors]\n",
    "\n",
    "left_factors = [garside_factors[0] for i in range(len(garside_factors))]\n",
    "evaluations = [ cell_rep.evaluate(left_factors[0])]\n",
    "for i in range(1,len(garside_factors)):\n",
    "    left_factors[i] = left_factors[i-1]*garside_factors[i]\n",
    "    evaluations.append(cell_rep.evaluate(left_factors[i]))\n",
    "\n"
   ]
  },
  {
   "cell_type": "code",
   "execution_count": 17,
   "id": "0d51930c",
   "metadata": {},
   "outputs": [
    {
     "data": {
      "image/png": "[encoded data removed]",
      "text/plain": [
       "<Figure size 1500x600 with 1 Axes>"
      ]
     },
     "metadata": {},
     "output_type": "display_data"
    }
   ],
   "source": [
    "# get the sequence of projlens:\n",
    "\n",
    "X = [polymat.projectivise(polymat.from_matrix(evaluations[i])).shape[-1] for i in range(len(can_factors))]\n",
    "\n",
    "import matplotlib.pyplot as plt\n",
    "\n",
    "garside_lengths = range(1, len(X)+1)\n",
    "proj_lengths = X\n",
    "\n",
    "plt.figure(figsize=(15, 6)) \n",
    "\n",
    "# Create the line plot\n",
    "plt.plot(garside_lengths, proj_lengths, marker='o', linestyle='-', color='b')\n",
    "\n",
    "# Set axis labels and title\n",
    "plt.xlabel('Garside length')\n",
    "plt.ylabel('projlen')\n",
    "#plt.title('Line Plot of Sequence X')\n",
    "\n",
    "# Show the plot\n",
    "plt.grid(True)\n",
    "plt.show()"
   ]
  }
 ],
 "metadata": {
  "interpreter": {
   "hash": "f61f60e2ddd54fbc36ddc11a3412f165d32ddf97b946abaf717cc49e8b0ea040"
  },
  "kernelspec": {
   "display_name": "Python 3 (ipykernel)",
   "language": "python",
   "name": "python3"
  },
  "language_info": {
   "codemirror_mode": {
    "name": "ipython",
    "version": 3
   },
   "file_extension": ".py",
   "mimetype": "text/x-python",
   "name": "python",
   "nbconvert_exporter": "python",
   "pygments_lexer": "ipython3",
   "version": "3.10.12"
  }
 },
 "nbformat": 4,
 "nbformat_minor": 5
}
